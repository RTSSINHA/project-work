{
 "cells": [
  {
   "cell_type": "code",
   "execution_count": 32,
   "metadata": {},
   "outputs": [],
   "source": [
    "import numpy as np\n",
    "import cv2"
   ]
  },
  {
   "cell_type": "code",
   "execution_count": 23,
   "metadata": {},
   "outputs": [
    {
     "name": "stdout",
     "output_type": "stream",
     "text": [
      "[[[  0   2   3]\n",
      "  [  1   3   4]\n",
      "  [  0   2   3]\n",
      "  ...\n",
      "  [  1   3   4]\n",
      "  [  0   2   3]\n",
      "  [  0   2   3]]\n",
      "\n",
      " [[  0   2   3]\n",
      "  [  0   0   0]\n",
      "  [  0   0   0]\n",
      "  ...\n",
      "  [  0   0   1]\n",
      "  [  0   2   3]\n",
      "  [  0   2   3]]\n",
      "\n",
      " [[  6   6   6]\n",
      "  [ 45  45  45]\n",
      "  [ 51  51  51]\n",
      "  ...\n",
      "  [ 45  44  46]\n",
      "  [  8   7   9]\n",
      "  [  0   1   2]]\n",
      "\n",
      " ...\n",
      "\n",
      " [[ 16   9   6]\n",
      "  [141  53  17]\n",
      "  [155  57  15]\n",
      "  ...\n",
      "  [112  31   4]\n",
      "  [ 18   5   3]\n",
      "  [  0   0   5]]\n",
      "\n",
      " [[  1   3   4]\n",
      "  [ 27  11   5]\n",
      "  [ 27  11   5]\n",
      "  ...\n",
      "  [ 20   4   5]\n",
      "  [  1   3   4]\n",
      "  [  0   1   5]]\n",
      "\n",
      " [[  0   2   3]\n",
      "  [  1   0   2]\n",
      "  [  0   1   2]\n",
      "  ...\n",
      "  [  0   1   2]\n",
      "  [  1   3   4]\n",
      "  [  0   2   2]]]\n"
     ]
    }
   ],
   "source": [
    "img = cv2.imread(\"Ritesh.jpg\",1)\n",
    "print(img)"
   ]
  },
  {
   "cell_type": "code",
   "execution_count": 18,
   "metadata": {},
   "outputs": [],
   "source": [
    "\n",
    "resized = cv2.resize(img,(600*2,int(400/2)))\n",
    "cv2.imshow(\"Capture\",resized)\n",
    "cv2.waitKey(0)\n",
    "cv2.destroyAllWindows()"
   ]
  },
  {
   "cell_type": "code",
   "execution_count": 57,
   "metadata": {},
   "outputs": [],
   "source": [
    "face_cascade = cv2.CascadeClassifier('haarcascade_frontalface_default.xml') \n",
    "  \n",
    "\n",
    "# Trained XML file for detecting eyes \n",
    "eye_cascade = cv2.CascadeClassifier('haarcascade_eye.xml')  \n",
    "  \n",
    "# capture frames from a camera \n",
    "cap = cv2.VideoCapture(0) \n",
    "cap.set(10,5000)\n",
    "  \n",
    "# loop runs if capturing has been initialized. \n",
    "while 1:  \n",
    "  \n",
    "    # reads frames from a camera \n",
    "    ret, img = cap.read()  \n",
    "  \n",
    "    # convert to gray scale of each frames \n",
    "    gray = cv2.cvtColor(img, cv2.COLOR_BGR2GRAY) \n",
    "  \n",
    "    # Detects faces of different sizes in the input image \n",
    "    faces = face_cascade.detectMultiScale(gray, 1.3, 5) \n",
    "  \n",
    "    for (x,y,w,h) in faces: \n",
    "        # To draw a rectangle in a face  \n",
    "        cv2.rectangle(img,(x,y),(x+w,y+h),(255,172,40),2)  \n",
    "        roi_gray = gray[y:y+h, x:x+w] \n",
    "        roi_color = img[y:y+h, x:x+w] \n",
    "  \n",
    "        # Detects eyes of different sizes in the input image \n",
    "        eyes = eye_cascade.detectMultiScale(roi_gray)  \n",
    "  \n",
    "        #To draw a rectangle in eyes \n",
    "        for (ex,ey,ew,eh) in eyes: \n",
    "            cv2.rectangle(roi_color,(ex,ey),(ex+ew,ey+eh),(0,127,255),2) \n",
    "  \n",
    "    # Display an image in a window \n",
    "    cv2.imshow('img',img) \n",
    "  \n",
    "    # Wait for Esc key to stop \n",
    "    k = cv2.waitKey(1) & 0xff\n",
    "    if k == 27: \n",
    "        break\n",
    "  \n",
    "# Close the window \n",
    "cap.release() \n",
    "  \n",
    "# De-allocate any associated memory usage \n",
    "cv2.destroyAllWindows()  "
   ]
  },
  {
   "cell_type": "code",
   "execution_count": null,
   "metadata": {},
   "outputs": [],
   "source": []
  }
 ],
 "metadata": {
  "kernelspec": {
   "display_name": "Python3.6",
   "language": "python",
   "name": "rts"
  },
  "language_info": {
   "codemirror_mode": {
    "name": "ipython",
    "version": 3
   },
   "file_extension": ".py",
   "mimetype": "text/x-python",
   "name": "python",
   "nbconvert_exporter": "python",
   "pygments_lexer": "ipython3",
   "version": "3.6.10"
  }
 },
 "nbformat": 4,
 "nbformat_minor": 4
}
